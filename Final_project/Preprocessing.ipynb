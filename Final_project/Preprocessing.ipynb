{
 "cells": [
  {
   "cell_type": "markdown",
   "metadata": {},
   "source": [
    "# <b>Simple EDA - Sales and Customer Patterns</b>\n",
    "https://www.kaggle.com/code/kabure/simple-eda-sales-and-customer-patterns/input?select=olist_orders_dataset.csv\n"
   ]
  },
  {
   "cell_type": "markdown",
   "metadata": {},
   "source": [
    "## <b>Preprocessing</b>"
   ]
  },
  {
   "cell_type": "markdown",
   "metadata": {},
   "source": [
    "### Load dataset"
   ]
  },
  {
   "cell_type": "code",
   "execution_count": 9,
   "metadata": {},
   "outputs": [],
   "source": [
    "import pandas as pd\n",
    "import matplotlib.pyplot as plt\n",
    "import seaborn as sns"
   ]
  },
  {
   "cell_type": "code",
   "execution_count": 10,
   "metadata": {},
   "outputs": [
    {
     "name": "stdout",
     "output_type": "stream",
     "text": [
      "주문 데이터 개수: 99441\n"
     ]
    },
    {
     "data": {
      "text/html": [
       "<div>\n",
       "<style scoped>\n",
       "    .dataframe tbody tr th:only-of-type {\n",
       "        vertical-align: middle;\n",
       "    }\n",
       "\n",
       "    .dataframe tbody tr th {\n",
       "        vertical-align: top;\n",
       "    }\n",
       "\n",
       "    .dataframe thead th {\n",
       "        text-align: right;\n",
       "    }\n",
       "</style>\n",
       "<table border=\"1\" class=\"dataframe\">\n",
       "  <thead>\n",
       "    <tr style=\"text-align: right;\">\n",
       "      <th></th>\n",
       "      <th>order_id</th>\n",
       "      <th>customer_id</th>\n",
       "      <th>order_status</th>\n",
       "      <th>order_purchase_timestamp</th>\n",
       "      <th>order_approved_at</th>\n",
       "      <th>order_delivered_carrier_date</th>\n",
       "      <th>order_delivered_customer_date</th>\n",
       "      <th>order_estimated_delivery_date</th>\n",
       "    </tr>\n",
       "  </thead>\n",
       "  <tbody>\n",
       "    <tr>\n",
       "      <th>0</th>\n",
       "      <td>e481f51cbdc54678b7cc49136f2d6af7</td>\n",
       "      <td>9ef432eb6251297304e76186b10a928d</td>\n",
       "      <td>delivered</td>\n",
       "      <td>2017-10-02 10:56:33</td>\n",
       "      <td>2017-10-02 11:07:15</td>\n",
       "      <td>2017-10-04 19:55:00</td>\n",
       "      <td>2017-10-10 21:25:13</td>\n",
       "      <td>2017-10-18 00:00:00</td>\n",
       "    </tr>\n",
       "  </tbody>\n",
       "</table>\n",
       "</div>"
      ],
      "text/plain": [
       "                           order_id                       customer_id  \\\n",
       "0  e481f51cbdc54678b7cc49136f2d6af7  9ef432eb6251297304e76186b10a928d   \n",
       "\n",
       "  order_status order_purchase_timestamp    order_approved_at  \\\n",
       "0    delivered      2017-10-02 10:56:33  2017-10-02 11:07:15   \n",
       "\n",
       "  order_delivered_carrier_date order_delivered_customer_date  \\\n",
       "0          2017-10-04 19:55:00           2017-10-10 21:25:13   \n",
       "\n",
       "  order_estimated_delivery_date  \n",
       "0           2017-10-18 00:00:00  "
      ]
     },
     "execution_count": 10,
     "metadata": {},
     "output_type": "execute_result"
    }
   ],
   "source": [
    "order_df = pd.read_csv('olist_orders_dataset.csv') # 주문\n",
    "\n",
    "print(f'주문 데이터 개수: {len(order_df)}')\n",
    "order_df.head(1)"
   ]
  },
  {
   "cell_type": "code",
   "execution_count": 11,
   "metadata": {},
   "outputs": [
    {
     "name": "stdout",
     "output_type": "stream",
     "text": [
      "상세 주문 데이터 개수: 112650\n"
     ]
    },
    {
     "data": {
      "text/html": [
       "<div>\n",
       "<style scoped>\n",
       "    .dataframe tbody tr th:only-of-type {\n",
       "        vertical-align: middle;\n",
       "    }\n",
       "\n",
       "    .dataframe tbody tr th {\n",
       "        vertical-align: top;\n",
       "    }\n",
       "\n",
       "    .dataframe thead th {\n",
       "        text-align: right;\n",
       "    }\n",
       "</style>\n",
       "<table border=\"1\" class=\"dataframe\">\n",
       "  <thead>\n",
       "    <tr style=\"text-align: right;\">\n",
       "      <th></th>\n",
       "      <th>order_id</th>\n",
       "      <th>order_item_id</th>\n",
       "      <th>product_id</th>\n",
       "      <th>seller_id</th>\n",
       "      <th>shipping_limit_date</th>\n",
       "      <th>price</th>\n",
       "      <th>freight_value</th>\n",
       "    </tr>\n",
       "  </thead>\n",
       "  <tbody>\n",
       "    <tr>\n",
       "      <th>0</th>\n",
       "      <td>00010242fe8c5a6d1ba2dd792cb16214</td>\n",
       "      <td>1</td>\n",
       "      <td>4244733e06e7ecb4970a6e2683c13e61</td>\n",
       "      <td>48436dade18ac8b2bce089ec2a041202</td>\n",
       "      <td>2017-09-19 09:45:35</td>\n",
       "      <td>58.9</td>\n",
       "      <td>13.29</td>\n",
       "    </tr>\n",
       "  </tbody>\n",
       "</table>\n",
       "</div>"
      ],
      "text/plain": [
       "                           order_id  order_item_id  \\\n",
       "0  00010242fe8c5a6d1ba2dd792cb16214              1   \n",
       "\n",
       "                         product_id                         seller_id  \\\n",
       "0  4244733e06e7ecb4970a6e2683c13e61  48436dade18ac8b2bce089ec2a041202   \n",
       "\n",
       "   shipping_limit_date  price  freight_value  \n",
       "0  2017-09-19 09:45:35   58.9          13.29  "
      ]
     },
     "execution_count": 11,
     "metadata": {},
     "output_type": "execute_result"
    }
   ],
   "source": [
    "order_items_df = pd.read_csv('olist_order_items_dataset.csv') # 주문 상세\n",
    "\n",
    "print(f'상세 주문 데이터 개수: {len(order_items_df)}')\n",
    "order_items_df.head(1)"
   ]
  },
  {
   "cell_type": "code",
   "execution_count": 12,
   "metadata": {},
   "outputs": [
    {
     "data": {
      "text/html": [
       "<div>\n",
       "<style scoped>\n",
       "    .dataframe tbody tr th:only-of-type {\n",
       "        vertical-align: middle;\n",
       "    }\n",
       "\n",
       "    .dataframe tbody tr th {\n",
       "        vertical-align: top;\n",
       "    }\n",
       "\n",
       "    .dataframe thead th {\n",
       "        text-align: right;\n",
       "    }\n",
       "</style>\n",
       "<table border=\"1\" class=\"dataframe\">\n",
       "  <thead>\n",
       "    <tr style=\"text-align: right;\">\n",
       "      <th></th>\n",
       "      <th>order_id</th>\n",
       "      <th>order_item_id</th>\n",
       "      <th>product_id</th>\n",
       "      <th>seller_id</th>\n",
       "      <th>shipping_limit_date</th>\n",
       "      <th>price</th>\n",
       "      <th>freight_value</th>\n",
       "    </tr>\n",
       "  </thead>\n",
       "  <tbody>\n",
       "    <tr>\n",
       "      <th>90414</th>\n",
       "      <td>cd51709c98c738351915f79c4318675e</td>\n",
       "      <td>1</td>\n",
       "      <td>3bb3e5caf47c7e92ed97227247e942a8</td>\n",
       "      <td>7d456afc660226829370f3173d14520c</td>\n",
       "      <td>2018-02-05 16:31:18</td>\n",
       "      <td>320.0</td>\n",
       "      <td>25.69</td>\n",
       "    </tr>\n",
       "    <tr>\n",
       "      <th>90415</th>\n",
       "      <td>cd51709c98c738351915f79c4318675e</td>\n",
       "      <td>2</td>\n",
       "      <td>e9b3cf27d68caa64832c4a7c460abcb9</td>\n",
       "      <td>7d456afc660226829370f3173d14520c</td>\n",
       "      <td>2018-02-05 16:31:18</td>\n",
       "      <td>160.0</td>\n",
       "      <td>33.02</td>\n",
       "    </tr>\n",
       "    <tr>\n",
       "      <th>90416</th>\n",
       "      <td>cd51709c98c738351915f79c4318675e</td>\n",
       "      <td>3</td>\n",
       "      <td>3bb3e5caf47c7e92ed97227247e942a8</td>\n",
       "      <td>7d456afc660226829370f3173d14520c</td>\n",
       "      <td>2018-02-05 16:31:18</td>\n",
       "      <td>320.0</td>\n",
       "      <td>25.69</td>\n",
       "    </tr>\n",
       "    <tr>\n",
       "      <th>90417</th>\n",
       "      <td>cd51709c98c738351915f79c4318675e</td>\n",
       "      <td>4</td>\n",
       "      <td>3ebbc0870d51b62783c45e0e61ccb78d</td>\n",
       "      <td>7d456afc660226829370f3173d14520c</td>\n",
       "      <td>2018-02-05 16:31:18</td>\n",
       "      <td>52.0</td>\n",
       "      <td>38.54</td>\n",
       "    </tr>\n",
       "    <tr>\n",
       "      <th>90418</th>\n",
       "      <td>cd51709c98c738351915f79c4318675e</td>\n",
       "      <td>5</td>\n",
       "      <td>3ebbc0870d51b62783c45e0e61ccb78d</td>\n",
       "      <td>7d456afc660226829370f3173d14520c</td>\n",
       "      <td>2018-02-05 16:31:18</td>\n",
       "      <td>52.0</td>\n",
       "      <td>38.54</td>\n",
       "    </tr>\n",
       "    <tr>\n",
       "      <th>90419</th>\n",
       "      <td>cd51709c98c738351915f79c4318675e</td>\n",
       "      <td>6</td>\n",
       "      <td>e9b3cf27d68caa64832c4a7c460abcb9</td>\n",
       "      <td>7d456afc660226829370f3173d14520c</td>\n",
       "      <td>2018-02-05 16:31:18</td>\n",
       "      <td>160.0</td>\n",
       "      <td>33.02</td>\n",
       "    </tr>\n",
       "    <tr>\n",
       "      <th>90420</th>\n",
       "      <td>cd51709c98c738351915f79c4318675e</td>\n",
       "      <td>7</td>\n",
       "      <td>3ebbc0870d51b62783c45e0e61ccb78d</td>\n",
       "      <td>7d456afc660226829370f3173d14520c</td>\n",
       "      <td>2018-02-05 16:31:18</td>\n",
       "      <td>52.0</td>\n",
       "      <td>38.54</td>\n",
       "    </tr>\n",
       "  </tbody>\n",
       "</table>\n",
       "</div>"
      ],
      "text/plain": [
       "                               order_id  order_item_id  \\\n",
       "90414  cd51709c98c738351915f79c4318675e              1   \n",
       "90415  cd51709c98c738351915f79c4318675e              2   \n",
       "90416  cd51709c98c738351915f79c4318675e              3   \n",
       "90417  cd51709c98c738351915f79c4318675e              4   \n",
       "90418  cd51709c98c738351915f79c4318675e              5   \n",
       "90419  cd51709c98c738351915f79c4318675e              6   \n",
       "90420  cd51709c98c738351915f79c4318675e              7   \n",
       "\n",
       "                             product_id                         seller_id  \\\n",
       "90414  3bb3e5caf47c7e92ed97227247e942a8  7d456afc660226829370f3173d14520c   \n",
       "90415  e9b3cf27d68caa64832c4a7c460abcb9  7d456afc660226829370f3173d14520c   \n",
       "90416  3bb3e5caf47c7e92ed97227247e942a8  7d456afc660226829370f3173d14520c   \n",
       "90417  3ebbc0870d51b62783c45e0e61ccb78d  7d456afc660226829370f3173d14520c   \n",
       "90418  3ebbc0870d51b62783c45e0e61ccb78d  7d456afc660226829370f3173d14520c   \n",
       "90419  e9b3cf27d68caa64832c4a7c460abcb9  7d456afc660226829370f3173d14520c   \n",
       "90420  3ebbc0870d51b62783c45e0e61ccb78d  7d456afc660226829370f3173d14520c   \n",
       "\n",
       "       shipping_limit_date  price  freight_value  \n",
       "90414  2018-02-05 16:31:18  320.0          25.69  \n",
       "90415  2018-02-05 16:31:18  160.0          33.02  \n",
       "90416  2018-02-05 16:31:18  320.0          25.69  \n",
       "90417  2018-02-05 16:31:18   52.0          38.54  \n",
       "90418  2018-02-05 16:31:18   52.0          38.54  \n",
       "90419  2018-02-05 16:31:18  160.0          33.02  \n",
       "90420  2018-02-05 16:31:18   52.0          38.54  "
      ]
     },
     "execution_count": 12,
     "metadata": {},
     "output_type": "execute_result"
    }
   ],
   "source": [
    "# example\n",
    "order_items_df[order_items_df['order_id']=='cd51709c98c738351915f79c4318675e'] # 상품 7개 주문"
   ]
  },
  {
   "cell_type": "markdown",
   "metadata": {},
   "source": [
    "### Check the number of order_id"
   ]
  },
  {
   "cell_type": "code",
   "execution_count": 19,
   "metadata": {},
   "outputs": [
    {
     "name": "stdout",
     "output_type": "stream",
     "text": [
      "99441\n",
      "98666\n"
     ]
    }
   ],
   "source": [
    "print(order_df['order_id'].nunique())\n",
    "print(order_items_df['order_id'].nunique())"
   ]
  },
  {
   "cell_type": "code",
   "execution_count": 20,
   "metadata": {},
   "outputs": [
    {
     "name": "stdout",
     "output_type": "stream",
     "text": [
      "order_items_df에 없는 order_id 정보:\n"
     ]
    },
    {
     "data": {
      "text/plain": [
       "unavailable    603\n",
       "canceled       164\n",
       "created          5\n",
       "invoiced         2\n",
       "shipped          1\n",
       "Name: order_status, dtype: int64"
      ]
     },
     "execution_count": 20,
     "metadata": {},
     "output_type": "execute_result"
    }
   ],
   "source": [
    "# order_df에만 있는 order_id를 데이터프레임으로 만들기기\n",
    "missing_in_order_items = order_df[~order_df['order_id'].isin(order_items_df['order_id'])]\n",
    "\n",
    "print(\"order_items_df에 없는 order_id 정보:\")\n",
    "missing_in_order_items['order_status'].value_counts() # 775개"
   ]
  },
  {
   "cell_type": "markdown",
   "metadata": {},
   "source": [
    "### Merge data & Select columns"
   ]
  },
  {
   "cell_type": "code",
   "execution_count": 23,
   "metadata": {},
   "outputs": [
    {
     "name": "stdout",
     "output_type": "stream",
     "text": [
      "113425\n"
     ]
    },
    {
     "data": {
      "text/html": [
       "<div>\n",
       "<style scoped>\n",
       "    .dataframe tbody tr th:only-of-type {\n",
       "        vertical-align: middle;\n",
       "    }\n",
       "\n",
       "    .dataframe tbody tr th {\n",
       "        vertical-align: top;\n",
       "    }\n",
       "\n",
       "    .dataframe thead th {\n",
       "        text-align: right;\n",
       "    }\n",
       "</style>\n",
       "<table border=\"1\" class=\"dataframe\">\n",
       "  <thead>\n",
       "    <tr style=\"text-align: right;\">\n",
       "      <th></th>\n",
       "      <th>order_id</th>\n",
       "      <th>customer_id</th>\n",
       "      <th>order_status</th>\n",
       "      <th>order_purchase_timestamp</th>\n",
       "      <th>order_approved_at</th>\n",
       "      <th>order_delivered_carrier_date</th>\n",
       "      <th>order_delivered_customer_date</th>\n",
       "      <th>order_estimated_delivery_date</th>\n",
       "      <th>order_item_id</th>\n",
       "      <th>product_id</th>\n",
       "      <th>seller_id</th>\n",
       "      <th>shipping_limit_date</th>\n",
       "      <th>price</th>\n",
       "      <th>freight_value</th>\n",
       "    </tr>\n",
       "  </thead>\n",
       "  <tbody>\n",
       "    <tr>\n",
       "      <th>0</th>\n",
       "      <td>e481f51cbdc54678b7cc49136f2d6af7</td>\n",
       "      <td>9ef432eb6251297304e76186b10a928d</td>\n",
       "      <td>delivered</td>\n",
       "      <td>2017-10-02 10:56:33</td>\n",
       "      <td>2017-10-02 11:07:15</td>\n",
       "      <td>2017-10-04 19:55:00</td>\n",
       "      <td>2017-10-10 21:25:13</td>\n",
       "      <td>2017-10-18 00:00:00</td>\n",
       "      <td>1.0</td>\n",
       "      <td>87285b34884572647811a353c7ac498a</td>\n",
       "      <td>3504c0cb71d7fa48d967e0e4c94d59d9</td>\n",
       "      <td>2017-10-06 11:07:15</td>\n",
       "      <td>29.99</td>\n",
       "      <td>8.72</td>\n",
       "    </tr>\n",
       "    <tr>\n",
       "      <th>1</th>\n",
       "      <td>53cdb2fc8bc7dce0b6741e2150273451</td>\n",
       "      <td>b0830fb4747a6c6d20dea0b8c802d7ef</td>\n",
       "      <td>delivered</td>\n",
       "      <td>2018-07-24 20:41:37</td>\n",
       "      <td>2018-07-26 03:24:27</td>\n",
       "      <td>2018-07-26 14:31:00</td>\n",
       "      <td>2018-08-07 15:27:45</td>\n",
       "      <td>2018-08-13 00:00:00</td>\n",
       "      <td>1.0</td>\n",
       "      <td>595fac2a385ac33a80bd5114aec74eb8</td>\n",
       "      <td>289cdb325fb7e7f891c38608bf9e0962</td>\n",
       "      <td>2018-07-30 03:24:27</td>\n",
       "      <td>118.70</td>\n",
       "      <td>22.76</td>\n",
       "    </tr>\n",
       "    <tr>\n",
       "      <th>2</th>\n",
       "      <td>47770eb9100c2d0c44946d9cf07ec65d</td>\n",
       "      <td>41ce2a54c0b03bf3443c3d931a367089</td>\n",
       "      <td>delivered</td>\n",
       "      <td>2018-08-08 08:38:49</td>\n",
       "      <td>2018-08-08 08:55:23</td>\n",
       "      <td>2018-08-08 13:50:00</td>\n",
       "      <td>2018-08-17 18:06:29</td>\n",
       "      <td>2018-09-04 00:00:00</td>\n",
       "      <td>1.0</td>\n",
       "      <td>aa4383b373c6aca5d8797843e5594415</td>\n",
       "      <td>4869f7a5dfa277a7dca6462dcf3b52b2</td>\n",
       "      <td>2018-08-13 08:55:23</td>\n",
       "      <td>159.90</td>\n",
       "      <td>19.22</td>\n",
       "    </tr>\n",
       "    <tr>\n",
       "      <th>3</th>\n",
       "      <td>949d5b44dbf5de918fe9c16f97b45f8a</td>\n",
       "      <td>f88197465ea7920adcdbec7375364d82</td>\n",
       "      <td>delivered</td>\n",
       "      <td>2017-11-18 19:28:06</td>\n",
       "      <td>2017-11-18 19:45:59</td>\n",
       "      <td>2017-11-22 13:39:59</td>\n",
       "      <td>2017-12-02 00:28:42</td>\n",
       "      <td>2017-12-15 00:00:00</td>\n",
       "      <td>1.0</td>\n",
       "      <td>d0b61bfb1de832b15ba9d266ca96e5b0</td>\n",
       "      <td>66922902710d126a0e7d26b0e3805106</td>\n",
       "      <td>2017-11-23 19:45:59</td>\n",
       "      <td>45.00</td>\n",
       "      <td>27.20</td>\n",
       "    </tr>\n",
       "    <tr>\n",
       "      <th>4</th>\n",
       "      <td>ad21c59c0840e6cb83a9ceb5573f8159</td>\n",
       "      <td>8ab97904e6daea8866dbdbc4fb7aad2c</td>\n",
       "      <td>delivered</td>\n",
       "      <td>2018-02-13 21:18:39</td>\n",
       "      <td>2018-02-13 22:20:29</td>\n",
       "      <td>2018-02-14 19:46:34</td>\n",
       "      <td>2018-02-16 18:17:02</td>\n",
       "      <td>2018-02-26 00:00:00</td>\n",
       "      <td>1.0</td>\n",
       "      <td>65266b2da20d04dbe00c5c2d3bb7859e</td>\n",
       "      <td>2c9e548be18521d1c43cde1c582c6de8</td>\n",
       "      <td>2018-02-19 20:31:37</td>\n",
       "      <td>19.90</td>\n",
       "      <td>8.72</td>\n",
       "    </tr>\n",
       "  </tbody>\n",
       "</table>\n",
       "</div>"
      ],
      "text/plain": [
       "                           order_id                       customer_id  \\\n",
       "0  e481f51cbdc54678b7cc49136f2d6af7  9ef432eb6251297304e76186b10a928d   \n",
       "1  53cdb2fc8bc7dce0b6741e2150273451  b0830fb4747a6c6d20dea0b8c802d7ef   \n",
       "2  47770eb9100c2d0c44946d9cf07ec65d  41ce2a54c0b03bf3443c3d931a367089   \n",
       "3  949d5b44dbf5de918fe9c16f97b45f8a  f88197465ea7920adcdbec7375364d82   \n",
       "4  ad21c59c0840e6cb83a9ceb5573f8159  8ab97904e6daea8866dbdbc4fb7aad2c   \n",
       "\n",
       "  order_status order_purchase_timestamp    order_approved_at  \\\n",
       "0    delivered      2017-10-02 10:56:33  2017-10-02 11:07:15   \n",
       "1    delivered      2018-07-24 20:41:37  2018-07-26 03:24:27   \n",
       "2    delivered      2018-08-08 08:38:49  2018-08-08 08:55:23   \n",
       "3    delivered      2017-11-18 19:28:06  2017-11-18 19:45:59   \n",
       "4    delivered      2018-02-13 21:18:39  2018-02-13 22:20:29   \n",
       "\n",
       "  order_delivered_carrier_date order_delivered_customer_date  \\\n",
       "0          2017-10-04 19:55:00           2017-10-10 21:25:13   \n",
       "1          2018-07-26 14:31:00           2018-08-07 15:27:45   \n",
       "2          2018-08-08 13:50:00           2018-08-17 18:06:29   \n",
       "3          2017-11-22 13:39:59           2017-12-02 00:28:42   \n",
       "4          2018-02-14 19:46:34           2018-02-16 18:17:02   \n",
       "\n",
       "  order_estimated_delivery_date  order_item_id  \\\n",
       "0           2017-10-18 00:00:00            1.0   \n",
       "1           2018-08-13 00:00:00            1.0   \n",
       "2           2018-09-04 00:00:00            1.0   \n",
       "3           2017-12-15 00:00:00            1.0   \n",
       "4           2018-02-26 00:00:00            1.0   \n",
       "\n",
       "                         product_id                         seller_id  \\\n",
       "0  87285b34884572647811a353c7ac498a  3504c0cb71d7fa48d967e0e4c94d59d9   \n",
       "1  595fac2a385ac33a80bd5114aec74eb8  289cdb325fb7e7f891c38608bf9e0962   \n",
       "2  aa4383b373c6aca5d8797843e5594415  4869f7a5dfa277a7dca6462dcf3b52b2   \n",
       "3  d0b61bfb1de832b15ba9d266ca96e5b0  66922902710d126a0e7d26b0e3805106   \n",
       "4  65266b2da20d04dbe00c5c2d3bb7859e  2c9e548be18521d1c43cde1c582c6de8   \n",
       "\n",
       "   shipping_limit_date   price  freight_value  \n",
       "0  2017-10-06 11:07:15   29.99           8.72  \n",
       "1  2018-07-30 03:24:27  118.70          22.76  \n",
       "2  2018-08-13 08:55:23  159.90          19.22  \n",
       "3  2017-11-23 19:45:59   45.00          27.20  \n",
       "4  2018-02-19 20:31:37   19.90           8.72  "
      ]
     },
     "execution_count": 23,
     "metadata": {},
     "output_type": "execute_result"
    }
   ],
   "source": [
    "total_order_df = pd.merge(order_df, order_items_df, on='order_id', how='left')\n",
    "\n",
    "print(len(total_order_df))\n",
    "total_order_df.head()"
   ]
  },
  {
   "cell_type": "code",
   "execution_count": 8,
   "metadata": {},
   "outputs": [],
   "source": [
    "df = total_order_df[['order_id', 'customer_id', 'order_item_id', 'order_status', \n",
    "                              'order_purchase_timestamp', 'order_approved_at', 'order_delivered_carrier_date', \n",
    "                              'order_delivered_customer_date', 'order_estimated_delivery_date', 'shipping_limit_date']]"
   ]
  },
  {
   "cell_type": "markdown",
   "metadata": {},
   "source": [
    "## <b>Shipping & Delivery process</b>\n",
    "주문 완료(order_purchase_timestamp) -> 결제 승인(order_approved_at)  \n",
    "-> 물류 전달(order_delivered_carrier_date) vs 출고 마감일(shipping_limit_date)  \n",
    "-> 고객 수령(order_delivered_customer_date) vs 예상 배송일(order_estimated_delivery_date)"
   ]
  },
  {
   "cell_type": "code",
   "execution_count": 10,
   "metadata": {},
   "outputs": [
    {
     "ename": "IndentationError",
     "evalue": "unexpected indent (3088769749.py, line 2)",
     "output_type": "error",
     "traceback": [
      "\u001b[1;36m  Cell \u001b[1;32mIn[10], line 2\u001b[1;36m\u001b[0m\n\u001b[1;33m    'shipping_limit_date', 'order_delivered_customer_date', 'order_estimated_delivery_date']]\u001b[0m\n\u001b[1;37m    ^\u001b[0m\n\u001b[1;31mIndentationError\u001b[0m\u001b[1;31m:\u001b[0m unexpected indent\n"
     ]
    }
   ],
   "source": [
    "# df[['order_status', 'order_purchase_timestamp', 'order_approved_at', 'order_delivered_carrier_date',\n",
    "    'shipping_limit_date', 'order_delivered_customer_date', 'order_estimated_delivery_date']]"
   ]
  },
  {
   "cell_type": "code",
   "execution_count": 11,
   "metadata": {},
   "outputs": [],
   "source": [
    "shipping_df = df[['order_status','order_purchase_timestamp','order_approved_at',\n",
    "                  'order_delivered_carrier_date','shipping_limit_date',\n",
    "                  'order_delivered_customer_date','order_estimated_delivery_date']]"
   ]
  },
  {
   "cell_type": "code",
   "execution_count": 12,
   "metadata": {},
   "outputs": [
    {
     "name": "stdout",
     "output_type": "stream",
     "text": [
      "<class 'pandas.core.frame.DataFrame'>\n",
      "Int64Index: 112650 entries, 0 to 112649\n",
      "Data columns (total 7 columns):\n",
      " #   Column                         Non-Null Count   Dtype \n",
      "---  ------                         --------------   ----- \n",
      " 0   order_status                   112650 non-null  object\n",
      " 1   order_purchase_timestamp       112650 non-null  object\n",
      " 2   order_approved_at              112635 non-null  object\n",
      " 3   order_delivered_carrier_date   111456 non-null  object\n",
      " 4   shipping_limit_date            112650 non-null  object\n",
      " 5   order_delivered_customer_date  110196 non-null  object\n",
      " 6   order_estimated_delivery_date  112650 non-null  object\n",
      "dtypes: object(7)\n",
      "memory usage: 6.9+ MB\n"
     ]
    }
   ],
   "source": [
    "shipping_df.info()"
   ]
  },
  {
   "cell_type": "markdown",
   "metadata": {},
   "source": [
    "#### Check Null value"
   ]
  },
  {
   "cell_type": "code",
   "execution_count": 228,
   "metadata": {},
   "outputs": [
    {
     "data": {
      "text/html": [
       "<div>\n",
       "<style scoped>\n",
       "    .dataframe tbody tr th:only-of-type {\n",
       "        vertical-align: middle;\n",
       "    }\n",
       "\n",
       "    .dataframe tbody tr th {\n",
       "        vertical-align: top;\n",
       "    }\n",
       "\n",
       "    .dataframe thead th {\n",
       "        text-align: right;\n",
       "    }\n",
       "</style>\n",
       "<table border=\"1\" class=\"dataframe\">\n",
       "  <thead>\n",
       "    <tr style=\"text-align: right;\">\n",
       "      <th></th>\n",
       "      <th>order_status</th>\n",
       "      <th>order_purchase_timestamp</th>\n",
       "      <th>order_approved_at</th>\n",
       "      <th>order_delivered_carrier_date</th>\n",
       "      <th>shipping_limit_date</th>\n",
       "    </tr>\n",
       "  </thead>\n",
       "  <tbody>\n",
       "    <tr>\n",
       "      <th>5971</th>\n",
       "      <td>delivered</td>\n",
       "      <td>2017-02-18 14:40:00</td>\n",
       "      <td>NaN</td>\n",
       "      <td>2017-02-23 12:04:47</td>\n",
       "      <td>2017-02-22 13:40:00</td>\n",
       "    </tr>\n",
       "    <tr>\n",
       "      <th>18732</th>\n",
       "      <td>delivered</td>\n",
       "      <td>2017-02-18 12:45:31</td>\n",
       "      <td>NaN</td>\n",
       "      <td>2017-02-23 09:01:52</td>\n",
       "      <td>2017-02-22 11:45:31</td>\n",
       "    </tr>\n",
       "    <tr>\n",
       "      <th>21512</th>\n",
       "      <td>delivered</td>\n",
       "      <td>2017-02-18 13:29:47</td>\n",
       "      <td>NaN</td>\n",
       "      <td>2017-02-22 16:25:25</td>\n",
       "      <td>2017-02-22 12:29:47</td>\n",
       "    </tr>\n",
       "    <tr>\n",
       "      <th>25620</th>\n",
       "      <td>delivered</td>\n",
       "      <td>2017-02-18 16:48:35</td>\n",
       "      <td>NaN</td>\n",
       "      <td>2017-02-22 11:23:10</td>\n",
       "      <td>2017-02-22 15:48:35</td>\n",
       "    </tr>\n",
       "    <tr>\n",
       "      <th>26180</th>\n",
       "      <td>delivered</td>\n",
       "      <td>2017-02-17 13:05:55</td>\n",
       "      <td>NaN</td>\n",
       "      <td>2017-02-22 11:23:11</td>\n",
       "      <td>2017-02-21 12:05:55</td>\n",
       "    </tr>\n",
       "    <tr>\n",
       "      <th>30328</th>\n",
       "      <td>delivered</td>\n",
       "      <td>2017-01-19 12:48:08</td>\n",
       "      <td>NaN</td>\n",
       "      <td>2017-01-25 14:56:50</td>\n",
       "      <td>2017-01-23 12:48:08</td>\n",
       "    </tr>\n",
       "    <tr>\n",
       "      <th>43338</th>\n",
       "      <td>delivered</td>\n",
       "      <td>2017-02-19 01:28:47</td>\n",
       "      <td>NaN</td>\n",
       "      <td>2017-02-23 03:11:48</td>\n",
       "      <td>2017-02-26 01:28:47</td>\n",
       "    </tr>\n",
       "    <tr>\n",
       "      <th>44516</th>\n",
       "      <td>delivered</td>\n",
       "      <td>2017-02-18 11:04:19</td>\n",
       "      <td>NaN</td>\n",
       "      <td>2017-02-23 07:23:36</td>\n",
       "      <td>2017-02-25 10:04:19</td>\n",
       "    </tr>\n",
       "    <tr>\n",
       "      <th>54770</th>\n",
       "      <td>delivered</td>\n",
       "      <td>2017-01-19 22:26:59</td>\n",
       "      <td>NaN</td>\n",
       "      <td>2017-01-27 11:08:05</td>\n",
       "      <td>2017-01-29 22:26:59</td>\n",
       "    </tr>\n",
       "    <tr>\n",
       "      <th>69806</th>\n",
       "      <td>delivered</td>\n",
       "      <td>2017-02-17 17:21:55</td>\n",
       "      <td>NaN</td>\n",
       "      <td>2017-02-22 11:42:51</td>\n",
       "      <td>2017-02-21 16:21:55</td>\n",
       "    </tr>\n",
       "    <tr>\n",
       "      <th>71308</th>\n",
       "      <td>delivered</td>\n",
       "      <td>2017-02-18 15:52:27</td>\n",
       "      <td>NaN</td>\n",
       "      <td>2017-02-23 03:09:14</td>\n",
       "      <td>2017-02-28 14:52:27</td>\n",
       "    </tr>\n",
       "    <tr>\n",
       "      <th>76650</th>\n",
       "      <td>delivered</td>\n",
       "      <td>2017-02-18 22:49:19</td>\n",
       "      <td>NaN</td>\n",
       "      <td>2017-02-22 11:31:06</td>\n",
       "      <td>2017-02-22 21:49:19</td>\n",
       "    </tr>\n",
       "    <tr>\n",
       "      <th>76651</th>\n",
       "      <td>delivered</td>\n",
       "      <td>2017-02-18 22:49:19</td>\n",
       "      <td>NaN</td>\n",
       "      <td>2017-02-22 11:31:06</td>\n",
       "      <td>2017-02-22 21:49:19</td>\n",
       "    </tr>\n",
       "    <tr>\n",
       "      <th>81985</th>\n",
       "      <td>delivered</td>\n",
       "      <td>2017-02-17 15:53:27</td>\n",
       "      <td>NaN</td>\n",
       "      <td>2017-02-22 11:31:30</td>\n",
       "      <td>2017-02-22 14:53:27</td>\n",
       "    </tr>\n",
       "    <tr>\n",
       "      <th>96173</th>\n",
       "      <td>delivered</td>\n",
       "      <td>2017-02-18 17:15:03</td>\n",
       "      <td>NaN</td>\n",
       "      <td>2017-02-22 11:23:11</td>\n",
       "      <td>2017-02-22 16:15:03</td>\n",
       "    </tr>\n",
       "  </tbody>\n",
       "</table>\n",
       "</div>"
      ],
      "text/plain": [
       "      order_status order_purchase_timestamp order_approved_at  \\\n",
       "5971     delivered      2017-02-18 14:40:00               NaN   \n",
       "18732    delivered      2017-02-18 12:45:31               NaN   \n",
       "21512    delivered      2017-02-18 13:29:47               NaN   \n",
       "25620    delivered      2017-02-18 16:48:35               NaN   \n",
       "26180    delivered      2017-02-17 13:05:55               NaN   \n",
       "30328    delivered      2017-01-19 12:48:08               NaN   \n",
       "43338    delivered      2017-02-19 01:28:47               NaN   \n",
       "44516    delivered      2017-02-18 11:04:19               NaN   \n",
       "54770    delivered      2017-01-19 22:26:59               NaN   \n",
       "69806    delivered      2017-02-17 17:21:55               NaN   \n",
       "71308    delivered      2017-02-18 15:52:27               NaN   \n",
       "76650    delivered      2017-02-18 22:49:19               NaN   \n",
       "76651    delivered      2017-02-18 22:49:19               NaN   \n",
       "81985    delivered      2017-02-17 15:53:27               NaN   \n",
       "96173    delivered      2017-02-18 17:15:03               NaN   \n",
       "\n",
       "      order_delivered_carrier_date  shipping_limit_date  \n",
       "5971           2017-02-23 12:04:47  2017-02-22 13:40:00  \n",
       "18732          2017-02-23 09:01:52  2017-02-22 11:45:31  \n",
       "21512          2017-02-22 16:25:25  2017-02-22 12:29:47  \n",
       "25620          2017-02-22 11:23:10  2017-02-22 15:48:35  \n",
       "26180          2017-02-22 11:23:11  2017-02-21 12:05:55  \n",
       "30328          2017-01-25 14:56:50  2017-01-23 12:48:08  \n",
       "43338          2017-02-23 03:11:48  2017-02-26 01:28:47  \n",
       "44516          2017-02-23 07:23:36  2017-02-25 10:04:19  \n",
       "54770          2017-01-27 11:08:05  2017-01-29 22:26:59  \n",
       "69806          2017-02-22 11:42:51  2017-02-21 16:21:55  \n",
       "71308          2017-02-23 03:09:14  2017-02-28 14:52:27  \n",
       "76650          2017-02-22 11:31:06  2017-02-22 21:49:19  \n",
       "76651          2017-02-22 11:31:06  2017-02-22 21:49:19  \n",
       "81985          2017-02-22 11:31:30  2017-02-22 14:53:27  \n",
       "96173          2017-02-22 11:23:11  2017-02-22 16:15:03  "
      ]
     },
     "execution_count": 228,
     "metadata": {},
     "output_type": "execute_result"
    }
   ],
   "source": [
    "shipping_df[shipping_df['order_approved_at'].isnull()] # 결제 승인의 null 값은 분석에 영향을 미치지 않으므로 유지"
   ]
  },
  {
   "cell_type": "code",
   "execution_count": 229,
   "metadata": {},
   "outputs": [
    {
     "data": {
      "text/html": [
       "<div>\n",
       "<style scoped>\n",
       "    .dataframe tbody tr th:only-of-type {\n",
       "        vertical-align: middle;\n",
       "    }\n",
       "\n",
       "    .dataframe tbody tr th {\n",
       "        vertical-align: top;\n",
       "    }\n",
       "\n",
       "    .dataframe thead th {\n",
       "        text-align: right;\n",
       "    }\n",
       "</style>\n",
       "<table border=\"1\" class=\"dataframe\">\n",
       "  <thead>\n",
       "    <tr style=\"text-align: right;\">\n",
       "      <th></th>\n",
       "      <th>order_status</th>\n",
       "      <th>order_purchase_timestamp</th>\n",
       "      <th>order_approved_at</th>\n",
       "      <th>order_delivered_carrier_date</th>\n",
       "      <th>shipping_limit_date</th>\n",
       "    </tr>\n",
       "  </thead>\n",
       "  <tbody>\n",
       "    <tr>\n",
       "      <th>6</th>\n",
       "      <td>invoiced</td>\n",
       "      <td>2017-04-11 12:22:08</td>\n",
       "      <td>2017-04-13 13:25:17</td>\n",
       "      <td>NaN</td>\n",
       "      <td>2017-04-19 13:25:17</td>\n",
       "    </tr>\n",
       "    <tr>\n",
       "      <th>118</th>\n",
       "      <td>invoiced</td>\n",
       "      <td>2018-08-03 17:44:42</td>\n",
       "      <td>2018-08-07 06:15:14</td>\n",
       "      <td>NaN</td>\n",
       "      <td>2018-08-13 06:15:14</td>\n",
       "    </tr>\n",
       "    <tr>\n",
       "      <th>148</th>\n",
       "      <td>processing</td>\n",
       "      <td>2017-09-03 14:22:03</td>\n",
       "      <td>2017-09-03 14:30:09</td>\n",
       "      <td>NaN</td>\n",
       "      <td>2017-09-20 14:30:09</td>\n",
       "    </tr>\n",
       "    <tr>\n",
       "      <th>368</th>\n",
       "      <td>processing</td>\n",
       "      <td>2016-10-05 22:44:13</td>\n",
       "      <td>2016-10-06 15:51:05</td>\n",
       "      <td>NaN</td>\n",
       "      <td>2016-10-21 16:24:45</td>\n",
       "    </tr>\n",
       "    <tr>\n",
       "      <th>447</th>\n",
       "      <td>canceled</td>\n",
       "      <td>2018-08-04 14:29:27</td>\n",
       "      <td>2018-08-07 04:10:26</td>\n",
       "      <td>NaN</td>\n",
       "      <td>2018-08-14 04:10:26</td>\n",
       "    </tr>\n",
       "    <tr>\n",
       "      <th>...</th>\n",
       "      <td>...</td>\n",
       "      <td>...</td>\n",
       "      <td>...</td>\n",
       "      <td>...</td>\n",
       "      <td>...</td>\n",
       "    </tr>\n",
       "    <tr>\n",
       "      <th>112224</th>\n",
       "      <td>invoiced</td>\n",
       "      <td>2018-07-16 13:20:06</td>\n",
       "      <td>2018-07-16 13:30:35</td>\n",
       "      <td>NaN</td>\n",
       "      <td>2018-07-20 13:30:24</td>\n",
       "    </tr>\n",
       "    <tr>\n",
       "      <th>112308</th>\n",
       "      <td>processing</td>\n",
       "      <td>2017-12-26 21:56:13</td>\n",
       "      <td>2017-12-26 22:05:26</td>\n",
       "      <td>NaN</td>\n",
       "      <td>2018-01-02 22:05:26</td>\n",
       "    </tr>\n",
       "    <tr>\n",
       "      <th>112317</th>\n",
       "      <td>canceled</td>\n",
       "      <td>2017-10-01 22:26:25</td>\n",
       "      <td>2017-10-01 22:35:22</td>\n",
       "      <td>NaN</td>\n",
       "      <td>2017-10-05 22:35:22</td>\n",
       "    </tr>\n",
       "    <tr>\n",
       "      <th>112318</th>\n",
       "      <td>canceled</td>\n",
       "      <td>2017-10-01 22:26:25</td>\n",
       "      <td>2017-10-01 22:35:22</td>\n",
       "      <td>NaN</td>\n",
       "      <td>2017-10-05 22:35:22</td>\n",
       "    </tr>\n",
       "    <tr>\n",
       "      <th>112512</th>\n",
       "      <td>processing</td>\n",
       "      <td>2018-01-05 23:07:24</td>\n",
       "      <td>2018-01-09 07:18:05</td>\n",
       "      <td>NaN</td>\n",
       "      <td>2018-01-19 07:18:05</td>\n",
       "    </tr>\n",
       "  </tbody>\n",
       "</table>\n",
       "<p>1194 rows × 5 columns</p>\n",
       "</div>"
      ],
      "text/plain": [
       "       order_status order_purchase_timestamp    order_approved_at  \\\n",
       "6          invoiced      2017-04-11 12:22:08  2017-04-13 13:25:17   \n",
       "118        invoiced      2018-08-03 17:44:42  2018-08-07 06:15:14   \n",
       "148      processing      2017-09-03 14:22:03  2017-09-03 14:30:09   \n",
       "368      processing      2016-10-05 22:44:13  2016-10-06 15:51:05   \n",
       "447        canceled      2018-08-04 14:29:27  2018-08-07 04:10:26   \n",
       "...             ...                      ...                  ...   \n",
       "112224     invoiced      2018-07-16 13:20:06  2018-07-16 13:30:35   \n",
       "112308   processing      2017-12-26 21:56:13  2017-12-26 22:05:26   \n",
       "112317     canceled      2017-10-01 22:26:25  2017-10-01 22:35:22   \n",
       "112318     canceled      2017-10-01 22:26:25  2017-10-01 22:35:22   \n",
       "112512   processing      2018-01-05 23:07:24  2018-01-09 07:18:05   \n",
       "\n",
       "       order_delivered_carrier_date  shipping_limit_date  \n",
       "6                               NaN  2017-04-19 13:25:17  \n",
       "118                             NaN  2018-08-13 06:15:14  \n",
       "148                             NaN  2017-09-20 14:30:09  \n",
       "368                             NaN  2016-10-21 16:24:45  \n",
       "447                             NaN  2018-08-14 04:10:26  \n",
       "...                             ...                  ...  \n",
       "112224                          NaN  2018-07-20 13:30:24  \n",
       "112308                          NaN  2018-01-02 22:05:26  \n",
       "112317                          NaN  2017-10-05 22:35:22  \n",
       "112318                          NaN  2017-10-05 22:35:22  \n",
       "112512                          NaN  2018-01-19 07:18:05  \n",
       "\n",
       "[1194 rows x 5 columns]"
      ]
     },
     "execution_count": 229,
     "metadata": {},
     "output_type": "execute_result"
    }
   ],
   "source": [
    "shipping_df[shipping_df['order_delivered_carrier_date'].isnull()] # 물류 전달일이 없으므로 drop"
   ]
  },
  {
   "cell_type": "markdown",
   "metadata": {},
   "source": [
    "#### Drop NaN value in Income column"
   ]
  },
  {
   "cell_type": "code",
   "execution_count": 230,
   "metadata": {},
   "outputs": [
    {
     "name": "stdout",
     "output_type": "stream",
     "text": [
      "<class 'pandas.core.frame.DataFrame'>\n",
      "Int64Index: 111456 entries, 0 to 112649\n",
      "Data columns (total 5 columns):\n",
      " #   Column                        Non-Null Count   Dtype \n",
      "---  ------                        --------------   ----- \n",
      " 0   order_status                  111456 non-null  object\n",
      " 1   order_purchase_timestamp      111456 non-null  object\n",
      " 2   order_approved_at             111441 non-null  object\n",
      " 3   order_delivered_carrier_date  111456 non-null  object\n",
      " 4   shipping_limit_date           111456 non-null  object\n",
      "dtypes: object(5)\n",
      "memory usage: 5.1+ MB\n",
      "None\n"
     ]
    }
   ],
   "source": [
    "shipping_df = shipping_df.dropna(subset=['order_delivered_carrier_date'])\n",
    "\n",
    "# 결과 확인\n",
    "print(shipping_df.info())"
   ]
  },
  {
   "cell_type": "markdown",
   "metadata": {},
   "source": [
    "#### Change Data types(object -> datetime)"
   ]
  },
  {
   "cell_type": "code",
   "execution_count": 231,
   "metadata": {},
   "outputs": [
    {
     "name": "stdout",
     "output_type": "stream",
     "text": [
      "<class 'pandas.core.frame.DataFrame'>\n",
      "Int64Index: 111456 entries, 0 to 112649\n",
      "Data columns (total 5 columns):\n",
      " #   Column                        Non-Null Count   Dtype         \n",
      "---  ------                        --------------   -----         \n",
      " 0   order_status                  111456 non-null  object        \n",
      " 1   order_purchase_timestamp      111456 non-null  datetime64[ns]\n",
      " 2   order_approved_at             111441 non-null  datetime64[ns]\n",
      " 3   order_delivered_carrier_date  111456 non-null  datetime64[ns]\n",
      " 4   shipping_limit_date           111456 non-null  datetime64[ns]\n",
      "dtypes: datetime64[ns](4), object(1)\n",
      "memory usage: 5.1+ MB\n",
      "None\n"
     ]
    }
   ],
   "source": [
    "# datetime으로 변환할 컬럼들 지정\n",
    "datetime_columns = [\n",
    "    'order_purchase_timestamp', \n",
    "    'order_approved_at', \n",
    "    'order_delivered_carrier_date', \n",
    "    'shipping_limit_date'\n",
    "]\n",
    "\n",
    "# 각 컬럼을 datetime 형식으로 변환\n",
    "for col in datetime_columns:\n",
    "    shipping_df[col] = pd.to_datetime(shipping_df[col], errors='coerce')\n",
    "\n",
    "# 결과 확인\n",
    "print(shipping_df.info())"
   ]
  },
  {
   "cell_type": "code",
   "execution_count": 232,
   "metadata": {},
   "outputs": [
    {
     "name": "stdout",
     "output_type": "stream",
     "text": [
      "NaT 개수 in order_purchase_timestamp: 0\n",
      "NaT 개수 in order_approved_at: 15\n",
      "NaT 개수 in order_delivered_carrier_date: 0\n",
      "NaT 개수 in shipping_limit_date: 0\n"
     ]
    }
   ],
   "source": [
    "for col in datetime_columns:\n",
    "    print(f\"NaT 개수 in {col}: {shipping_df[col].isnull().sum()}\") # order_approved_at의 NaN만 NaT로 바뀜"
   ]
  },
  {
   "cell_type": "code",
   "execution_count": 233,
   "metadata": {},
   "outputs": [
    {
     "data": {
      "text/html": [
       "<div>\n",
       "<style scoped>\n",
       "    .dataframe tbody tr th:only-of-type {\n",
       "        vertical-align: middle;\n",
       "    }\n",
       "\n",
       "    .dataframe tbody tr th {\n",
       "        vertical-align: top;\n",
       "    }\n",
       "\n",
       "    .dataframe thead th {\n",
       "        text-align: right;\n",
       "    }\n",
       "</style>\n",
       "<table border=\"1\" class=\"dataframe\">\n",
       "  <thead>\n",
       "    <tr style=\"text-align: right;\">\n",
       "      <th></th>\n",
       "      <th>order_status</th>\n",
       "      <th>order_purchase_timestamp</th>\n",
       "      <th>order_approved_at</th>\n",
       "      <th>order_delivered_carrier_date</th>\n",
       "      <th>shipping_limit_date</th>\n",
       "    </tr>\n",
       "  </thead>\n",
       "  <tbody>\n",
       "    <tr>\n",
       "      <th>0</th>\n",
       "      <td>delivered</td>\n",
       "      <td>2017-10-02 10:56:33</td>\n",
       "      <td>2017-10-02 11:07:15</td>\n",
       "      <td>2017-10-04 19:55:00</td>\n",
       "      <td>2017-10-06 11:07:15</td>\n",
       "    </tr>\n",
       "  </tbody>\n",
       "</table>\n",
       "</div>"
      ],
      "text/plain": [
       "  order_status order_purchase_timestamp   order_approved_at  \\\n",
       "0    delivered      2017-10-02 10:56:33 2017-10-02 11:07:15   \n",
       "\n",
       "  order_delivered_carrier_date shipping_limit_date  \n",
       "0          2017-10-04 19:55:00 2017-10-06 11:07:15  "
      ]
     },
     "execution_count": 233,
     "metadata": {},
     "output_type": "execute_result"
    }
   ],
   "source": [
    "# order_delivered_carrier_date: 물류 전달 날짜\n",
    "# shipping_limit_date: 출고 마감 날짜\n",
    "shipping_df.head(1)"
   ]
  },
  {
   "cell_type": "markdown",
   "metadata": {},
   "source": [
    "### <b>Feature Engineering</b>\n",
    "- approval_time\n",
    "- delivery_time\n",
    "- shipping_time"
   ]
  },
  {
   "cell_type": "code",
   "execution_count": 234,
   "metadata": {},
   "outputs": [
    {
     "data": {
      "text/html": [
       "<div>\n",
       "<style scoped>\n",
       "    .dataframe tbody tr th:only-of-type {\n",
       "        vertical-align: middle;\n",
       "    }\n",
       "\n",
       "    .dataframe tbody tr th {\n",
       "        vertical-align: top;\n",
       "    }\n",
       "\n",
       "    .dataframe thead th {\n",
       "        text-align: right;\n",
       "    }\n",
       "</style>\n",
       "<table border=\"1\" class=\"dataframe\">\n",
       "  <thead>\n",
       "    <tr style=\"text-align: right;\">\n",
       "      <th></th>\n",
       "      <th>approval_time</th>\n",
       "      <th>delivery_time</th>\n",
       "      <th>shipping_time</th>\n",
       "    </tr>\n",
       "  </thead>\n",
       "  <tbody>\n",
       "    <tr>\n",
       "      <th>count</th>\n",
       "      <td>111441</td>\n",
       "      <td>111441</td>\n",
       "      <td>111456</td>\n",
       "    </tr>\n",
       "    <tr>\n",
       "      <th>mean</th>\n",
       "      <td>0 days 10:32:03.000439694</td>\n",
       "      <td>2 days 20:25:12.713193528</td>\n",
       "      <td>3 days 07:45:47.976959517</td>\n",
       "    </tr>\n",
       "    <tr>\n",
       "      <th>std</th>\n",
       "      <td>0 days 21:13:31.835207581</td>\n",
       "      <td>3 days 14:08:18.514067469</td>\n",
       "      <td>6 days 14:39:46.733093563</td>\n",
       "    </tr>\n",
       "    <tr>\n",
       "      <th>min</th>\n",
       "      <td>0 days 00:00:00</td>\n",
       "      <td>-172 days +18:44:38</td>\n",
       "      <td>-117 days +05:41:54</td>\n",
       "    </tr>\n",
       "    <tr>\n",
       "      <th>25%</th>\n",
       "      <td>0 days 00:12:59</td>\n",
       "      <td>0 days 21:11:38</td>\n",
       "      <td>1 days 12:43:16.750000</td>\n",
       "    </tr>\n",
       "    <tr>\n",
       "      <th>50%</th>\n",
       "      <td>0 days 00:21:02</td>\n",
       "      <td>1 days 20:07:26</td>\n",
       "      <td>3 days 05:06:50.500000</td>\n",
       "    </tr>\n",
       "    <tr>\n",
       "      <th>75%</th>\n",
       "      <td>0 days 15:11:06</td>\n",
       "      <td>3 days 15:23:02</td>\n",
       "      <td>5 days 04:53:21</td>\n",
       "    </tr>\n",
       "    <tr>\n",
       "      <th>max</th>\n",
       "      <td>32 days 16:02:44</td>\n",
       "      <td>125 days 18:18:06</td>\n",
       "      <td>1054 days 05:52:07</td>\n",
       "    </tr>\n",
       "  </tbody>\n",
       "</table>\n",
       "</div>"
      ],
      "text/plain": [
       "                   approval_time              delivery_time  \\\n",
       "count                     111441                     111441   \n",
       "mean   0 days 10:32:03.000439694  2 days 20:25:12.713193528   \n",
       "std    0 days 21:13:31.835207581  3 days 14:08:18.514067469   \n",
       "min              0 days 00:00:00        -172 days +18:44:38   \n",
       "25%              0 days 00:12:59            0 days 21:11:38   \n",
       "50%              0 days 00:21:02            1 days 20:07:26   \n",
       "75%              0 days 15:11:06            3 days 15:23:02   \n",
       "max             32 days 16:02:44          125 days 18:18:06   \n",
       "\n",
       "                   shipping_time  \n",
       "count                     111456  \n",
       "mean   3 days 07:45:47.976959517  \n",
       "std    6 days 14:39:46.733093563  \n",
       "min          -117 days +05:41:54  \n",
       "25%       1 days 12:43:16.750000  \n",
       "50%       3 days 05:06:50.500000  \n",
       "75%              5 days 04:53:21  \n",
       "max           1054 days 05:52:07  "
      ]
     },
     "execution_count": 234,
     "metadata": {},
     "output_type": "execute_result"
    }
   ],
   "source": [
    "# 소요 시간 계산\n",
    "shipping_df['approval_time'] = shipping_df['order_approved_at'] - shipping_df['order_purchase_timestamp'] # 결제 승인 시간\n",
    "shipping_df['delivery_time'] = shipping_df['order_delivered_carrier_date'] - shipping_df['order_approved_at'] # 물류 전달 소요 시간\n",
    "shipping_df['shipping_time'] = shipping_df['shipping_limit_date'] - shipping_df['order_delivered_carrier_date'] # 출고 마감 소요 시간\n",
    "\n",
    "shipping_df[['approval_time', 'delivery_time', 'shipping_time']].describe()"
   ]
  },
  {
   "cell_type": "code",
   "execution_count": 235,
   "metadata": {},
   "outputs": [
    {
     "data": {
      "text/plain": [
       "1551"
      ]
     },
     "execution_count": 235,
     "metadata": {},
     "output_type": "execute_result"
    }
   ],
   "source": [
    "# 물류 전달 시간이 음수인 행 필터링\n",
    "negative_delivery_time = shipping_df[shipping_df['delivery_time'] < pd.Timedelta(0)]\n",
    "\n",
    "len(negative_delivery_time) # 결제 승인이 나기 전에 물류 전달한 상품이 1551개"
   ]
  },
  {
   "cell_type": "code",
   "execution_count": 236,
   "metadata": {},
   "outputs": [
    {
     "data": {
      "text/plain": [
       "10423"
      ]
     },
     "execution_count": 236,
     "metadata": {},
     "output_type": "execute_result"
    }
   ],
   "source": [
    "# 출고 마감 시간이 음수인 행 필터링\n",
    "negative_shipping_time = shipping_df[shipping_df['shipping_time'] < pd.Timedelta(0)]\n",
    "\n",
    "len(negative_shipping_time) # 물류 전달보다 출고가 먼저 된 상품이 10423개"
   ]
  },
  {
   "cell_type": "markdown",
   "metadata": {},
   "source": [
    "#### Drop rows: shipping_time < 0"
   ]
  },
  {
   "cell_type": "code",
   "execution_count": 243,
   "metadata": {},
   "outputs": [
    {
     "data": {
      "text/plain": [
       "101033"
      ]
     },
     "execution_count": 243,
     "metadata": {},
     "output_type": "execute_result"
    }
   ],
   "source": [
    "shipping_df = shipping_df.drop(shipping_df[shipping_df['shipping_time'] < pd.Timedelta(0)].index)\n",
    "\n",
    "# 물류 전달보다 출고가 먼저 된 데이터 삭제\n",
    "len(shipping_df) # 111456 - 10423"
   ]
  },
  {
   "cell_type": "markdown",
   "metadata": {},
   "source": [
    "## <b>EDA</b>"
   ]
  },
  {
   "cell_type": "code",
   "execution_count": 249,
   "metadata": {},
   "outputs": [
    {
     "data": {
      "text/html": [
       "<div>\n",
       "<style scoped>\n",
       "    .dataframe tbody tr th:only-of-type {\n",
       "        vertical-align: middle;\n",
       "    }\n",
       "\n",
       "    .dataframe tbody tr th {\n",
       "        vertical-align: top;\n",
       "    }\n",
       "\n",
       "    .dataframe thead th {\n",
       "        text-align: right;\n",
       "    }\n",
       "</style>\n",
       "<table border=\"1\" class=\"dataframe\">\n",
       "  <thead>\n",
       "    <tr style=\"text-align: right;\">\n",
       "      <th></th>\n",
       "      <th>approval_time</th>\n",
       "      <th>delivery_time</th>\n",
       "      <th>shipping_time</th>\n",
       "    </tr>\n",
       "  </thead>\n",
       "  <tbody>\n",
       "    <tr>\n",
       "      <th>count</th>\n",
       "      <td>101024</td>\n",
       "      <td>101024</td>\n",
       "      <td>101033</td>\n",
       "    </tr>\n",
       "    <tr>\n",
       "      <th>mean</th>\n",
       "      <td>0 days 10:27:58.384680867</td>\n",
       "      <td>2 days 04:18:32.455812480</td>\n",
       "      <td>3 days 23:39:25.475458513</td>\n",
       "    </tr>\n",
       "    <tr>\n",
       "      <th>std</th>\n",
       "      <td>0 days 21:18:57.873927072</td>\n",
       "      <td>2 days 04:57:26.212637191</td>\n",
       "      <td>6 days 08:43:12.122332057</td>\n",
       "    </tr>\n",
       "    <tr>\n",
       "      <th>min</th>\n",
       "      <td>0 days 00:00:00</td>\n",
       "      <td>-172 days +18:44:38</td>\n",
       "      <td>0 days 00:00:00</td>\n",
       "    </tr>\n",
       "    <tr>\n",
       "      <th>25%</th>\n",
       "      <td>0 days 00:12:58</td>\n",
       "      <td>0 days 19:46:55</td>\n",
       "      <td>2 days 01:20:08</td>\n",
       "    </tr>\n",
       "    <tr>\n",
       "      <th>50%</th>\n",
       "      <td>0 days 00:20:55</td>\n",
       "      <td>1 days 14:14:28</td>\n",
       "      <td>3 days 16:01:10</td>\n",
       "    </tr>\n",
       "    <tr>\n",
       "      <th>75%</th>\n",
       "      <td>0 days 14:58:43.250000</td>\n",
       "      <td>3 days 00:34:51.750000</td>\n",
       "      <td>5 days 07:31:18</td>\n",
       "    </tr>\n",
       "    <tr>\n",
       "      <th>max</th>\n",
       "      <td>32 days 16:02:44</td>\n",
       "      <td>49 days 03:55:55</td>\n",
       "      <td>1054 days 05:52:07</td>\n",
       "    </tr>\n",
       "  </tbody>\n",
       "</table>\n",
       "</div>"
      ],
      "text/plain": [
       "                   approval_time              delivery_time  \\\n",
       "count                     101024                     101024   \n",
       "mean   0 days 10:27:58.384680867  2 days 04:18:32.455812480   \n",
       "std    0 days 21:18:57.873927072  2 days 04:57:26.212637191   \n",
       "min              0 days 00:00:00        -172 days +18:44:38   \n",
       "25%              0 days 00:12:58            0 days 19:46:55   \n",
       "50%              0 days 00:20:55            1 days 14:14:28   \n",
       "75%       0 days 14:58:43.250000     3 days 00:34:51.750000   \n",
       "max             32 days 16:02:44           49 days 03:55:55   \n",
       "\n",
       "                   shipping_time  \n",
       "count                     101033  \n",
       "mean   3 days 23:39:25.475458513  \n",
       "std    6 days 08:43:12.122332057  \n",
       "min              0 days 00:00:00  \n",
       "25%              2 days 01:20:08  \n",
       "50%              3 days 16:01:10  \n",
       "75%              5 days 07:31:18  \n",
       "max           1054 days 05:52:07  "
      ]
     },
     "execution_count": 249,
     "metadata": {},
     "output_type": "execute_result"
    }
   ],
   "source": [
    "# 기본 요약 통계\n",
    "shipping_df[['approval_time', 'delivery_time', 'shipping_time']].describe()"
   ]
  },
  {
   "cell_type": "code",
   "execution_count": 250,
   "metadata": {},
   "outputs": [
    {
     "data": {
      "text/plain": [
       "delivered    99925\n",
       "shipped       1042\n",
       "canceled        66\n",
       "Name: order_status, dtype: int64"
      ]
     },
     "execution_count": 250,
     "metadata": {},
     "output_type": "execute_result"
    }
   ],
   "source": [
    "shipping_df['order_status'].value_counts()     # 주문 상태별 빈도수"
   ]
  },
  {
   "cell_type": "code",
   "execution_count": 253,
   "metadata": {},
   "outputs": [
    {
     "data": {
      "text/html": [
       "<div>\n",
       "<style scoped>\n",
       "    .dataframe tbody tr th:only-of-type {\n",
       "        vertical-align: middle;\n",
       "    }\n",
       "\n",
       "    .dataframe tbody tr th {\n",
       "        vertical-align: top;\n",
       "    }\n",
       "\n",
       "    .dataframe thead th {\n",
       "        text-align: right;\n",
       "    }\n",
       "</style>\n",
       "<table border=\"1\" class=\"dataframe\">\n",
       "  <thead>\n",
       "    <tr style=\"text-align: right;\">\n",
       "      <th></th>\n",
       "      <th>approval_time</th>\n",
       "      <th>delivery_time</th>\n",
       "      <th>shipping_time</th>\n",
       "    </tr>\n",
       "    <tr>\n",
       "      <th>order_status</th>\n",
       "      <th></th>\n",
       "      <th></th>\n",
       "      <th></th>\n",
       "    </tr>\n",
       "  </thead>\n",
       "  <tbody>\n",
       "    <tr>\n",
       "      <th>canceled</th>\n",
       "      <td>0 days 06:46:46.575757575</td>\n",
       "      <td>1 days 23:35:24.818181818</td>\n",
       "      <td>3 days 21:19:27.015151515</td>\n",
       "    </tr>\n",
       "    <tr>\n",
       "      <th>delivered</th>\n",
       "      <td>0 days 10:26:57.728672084</td>\n",
       "      <td>2 days 04:15:37.378928299</td>\n",
       "      <td>3 days 23:26:37.132439329</td>\n",
       "    </tr>\n",
       "    <tr>\n",
       "      <th>shipped</th>\n",
       "      <td>0 days 12:18:55.241842610</td>\n",
       "      <td>2 days 09:16:16.338771593</td>\n",
       "      <td>4 days 20:16:19.462571976</td>\n",
       "    </tr>\n",
       "  </tbody>\n",
       "</table>\n",
       "</div>"
      ],
      "text/plain": [
       "                         approval_time             delivery_time  \\\n",
       "order_status                                                       \n",
       "canceled     0 days 06:46:46.575757575 1 days 23:35:24.818181818   \n",
       "delivered    0 days 10:26:57.728672084 2 days 04:15:37.378928299   \n",
       "shipped      0 days 12:18:55.241842610 2 days 09:16:16.338771593   \n",
       "\n",
       "                         shipping_time  \n",
       "order_status                            \n",
       "canceled     3 days 21:19:27.015151515  \n",
       "delivered    3 days 23:26:37.132439329  \n",
       "shipped      4 days 20:16:19.462571976  "
      ]
     },
     "execution_count": 253,
     "metadata": {},
     "output_type": "execute_result"
    }
   ],
   "source": [
    "# 주문 상태별 평균 소요 시간 계산\n",
    "status_analysis = shipping_df.groupby('order_status')[['approval_time', 'delivery_time', 'shipping_time']].mean()\n",
    "status_analysis\n"
   ]
  },
  {
   "cell_type": "code",
   "execution_count": 256,
   "metadata": {},
   "outputs": [
    {
     "data": {
      "image/png": "[encoded data removed]",
      "text/plain": [
       "<Figure size 1000x450 with 2 Axes>"
      ]
     },
     "metadata": {},
     "output_type": "display_data"
    }
   ],
   "source": [
    "import matplotlib.pyplot as plt\n",
    "import seaborn as sns\n",
    "\n",
    "fig, axes = plt.subplots(1, 2, figsize=(10, 4.5))\n",
    "\n",
    "sns.histplot(shipping_df['approval_time'].dt.total_seconds() / 3600, kde=True, bins=30, ax=axes[0])  # 결제 승인 소요 시간: 주문완료 시간 -> 승인 시간\n",
    "axes[0].set_title('Approval Time Distribution (Hours)')\n",
    "axes[0].set_xlabel('Time (Hours)')\n",
    "axes[0].set_ylabel('Number of Orders')\n",
    "\n",
    "sns.histplot(shipping_df['delivery_time'].dt.total_seconds() / 3600, kde=True, bins=30, ax=axes[1]) # 물류 전달 소요 시간: 승인 시간 -> 물류 전달 시간\n",
    "axes[1].set_title('Delivery Time Distribution (Hours)')\n",
    "axes[1].set_xlabel('Time (Hours)')\n",
    "axes[1].set_ylabel('Number of Orders')\n",
    "\n",
    "# 서브플롯 간 간격 조정\n",
    "plt.tight_layout()\n",
    "\n",
    "# 플롯 표시\n",
    "plt.show()"
   ]
  },
  {
   "cell_type": "code",
   "execution_count": 264,
   "metadata": {},
   "outputs": [
    {
     "data": {
      "text/html": [
       "<div>\n",
       "<style scoped>\n",
       "    .dataframe tbody tr th:only-of-type {\n",
       "        vertical-align: middle;\n",
       "    }\n",
       "\n",
       "    .dataframe tbody tr th {\n",
       "        vertical-align: top;\n",
       "    }\n",
       "\n",
       "    .dataframe thead th {\n",
       "        text-align: right;\n",
       "    }\n",
       "</style>\n",
       "<table border=\"1\" class=\"dataframe\">\n",
       "  <thead>\n",
       "    <tr style=\"text-align: right;\">\n",
       "      <th></th>\n",
       "      <th>order_status</th>\n",
       "      <th>order_purchase_timestamp</th>\n",
       "      <th>order_approved_at</th>\n",
       "      <th>order_delivered_carrier_date</th>\n",
       "      <th>shipping_limit_date</th>\n",
       "      <th>approval_time</th>\n",
       "      <th>delivery_time</th>\n",
       "      <th>shipping_time</th>\n",
       "      <th>delayed_delivery</th>\n",
       "      <th>order_purchase_hour</th>\n",
       "    </tr>\n",
       "  </thead>\n",
       "  <tbody>\n",
       "    <tr>\n",
       "      <th>0</th>\n",
       "      <td>delivered</td>\n",
       "      <td>2017-10-02 10:56:33</td>\n",
       "      <td>2017-10-02 11:07:15</td>\n",
       "      <td>2017-10-04 19:55:00</td>\n",
       "      <td>2017-10-06 11:07:15</td>\n",
       "      <td>0 days 00:10:42</td>\n",
       "      <td>2 days 08:47:45</td>\n",
       "      <td>1 days 15:12:15</td>\n",
       "      <td>False</td>\n",
       "      <td>10</td>\n",
       "    </tr>\n",
       "  </tbody>\n",
       "</table>\n",
       "</div>"
      ],
      "text/plain": [
       "  order_status order_purchase_timestamp   order_approved_at  \\\n",
       "0    delivered      2017-10-02 10:56:33 2017-10-02 11:07:15   \n",
       "\n",
       "  order_delivered_carrier_date shipping_limit_date   approval_time  \\\n",
       "0          2017-10-04 19:55:00 2017-10-06 11:07:15 0 days 00:10:42   \n",
       "\n",
       "    delivery_time   shipping_time  delayed_delivery  order_purchase_hour  \n",
       "0 2 days 08:47:45 1 days 15:12:15             False                   10  "
      ]
     },
     "execution_count": 264,
     "metadata": {},
     "output_type": "execute_result"
    }
   ],
   "source": [
    "shipping_df.head(1)"
   ]
  },
  {
   "cell_type": "code",
   "execution_count": 265,
   "metadata": {},
   "outputs": [
    {
     "data": {
      "image/png": "[encoded data removed]",
      "text/plain": [
       "<Figure size 640x480 with 1 Axes>"
      ]
     },
     "metadata": {},
     "output_type": "display_data"
    }
   ],
   "source": [
    "# 주문 발생 시간 분포 분석\n",
    "shipping_df['order_purchase_timestamp'].dt.hour\n",
    "\n",
    "sns.countplot(data=shipping_df, x='order_purchase_hour', palette='viridis')\n",
    "plt.title('Order Purchase Time Distribution')\n",
    "plt.xlabel('Hour of the Day')\n",
    "plt.ylabel('Number of Orders')\n",
    "plt.show()"
   ]
  },
  {
   "cell_type": "code",
   "execution_count": null,
   "metadata": {},
   "outputs": [],
   "source": []
  }
 ],
 "metadata": {
  "kernelspec": {
   "display_name": "base",
   "language": "python",
   "name": "python3"
  },
  "language_info": {
   "codemirror_mode": {
    "name": "ipython",
    "version": 3
   },
   "file_extension": ".py",
   "mimetype": "text/x-python",
   "name": "python",
   "nbconvert_exporter": "python",
   "pygments_lexer": "ipython3",
   "version": "3.11.3"
  }
 },
 "nbformat": 4,
 "nbformat_minor": 2
}
